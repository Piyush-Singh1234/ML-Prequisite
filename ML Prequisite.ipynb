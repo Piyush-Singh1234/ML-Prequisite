{
 "cells": [
  {
   "cell_type": "code",
   "execution_count": 2,
   "id": "a25fd8b2-16ea-4f26-8e1d-7eaa4d6fe654",
   "metadata": {},
   "outputs": [],
   "source": [
    "import matplotlib.pyplot as plt\n",
    "import numpy as np\n",
    "import pandas as pd\n",
    "from jax import grad\n",
    "import jax.numpy as jnp"
   ]
  },
  {
   "cell_type": "markdown",
   "id": "aae41978-916b-41ad-a4a5-674f2e216837",
   "metadata": {},
   "source": [
    "1. How many multiplications and additions do you need to perform a matrix multiplication between a (n, k) and (k, m) matrix? Explain."
   ]
  },
  {
   "cell_type": "markdown",
   "id": "56a63432-de58-427b-9a24-2e28be21ecd2",
   "metadata": {},
   "source": [
    "- The order of a resultant matrix obtained from the multiplication of a (n, k) and (k, m) matrix is (n,m).\n",
    "- multiplications = (n*m)*k\n",
    "- Addition = (n*m)*(k-1)\n",
    "- Suppose the matrix is A[i][j] for multiplication we multiply ith row of 1st matrix with j th column of 2nd matrix and in each set of multiplication\n",
    "-  number of elements in jth column of the 2nd matrix are getting mutlipled and number of elements in jth column minus 1 of the 2nd matrix are getting\n",
    "-  added."
   ]
  },
  {
   "cell_type": "markdown",
   "id": "bf3bc00b-94bd-40d4-8936-76df4d19d44e",
   "metadata": {},
   "source": [
    "2. Write Python code to multiply the above two matrices. Solve using list of lists and then use numpy. Compare the timing of both solutions. Which one is faster? Why?"
   ]
  },
  {
   "cell_type": "code",
   "execution_count": 1,
   "id": "f025608c-2ba6-4735-a0c2-93c9eef12a91",
   "metadata": {},
   "outputs": [
    {
     "name": "stdout",
     "output_type": "stream",
     "text": [
      "Time taken by for loop 0.0012056827545166016\n",
      "Time taken by using numpy 0.0\n"
     ]
    }
   ],
   "source": [
    "import numpy as np\n",
    "import time\n",
    "a = np.random.randint(0, 11, size=(3, 4))\n",
    "b = np.random.randint(0, 11, size=(4, 5))\n",
    "c = np.zeros((3, 5))\n",
    "n=3\n",
    "m=5\n",
    "k=4\n",
    "t1=time.time()\n",
    "for i in range(n):\n",
    "    for j in range(m):\n",
    "        for l in range(k):\n",
    "            c[i][j] += a[i][l] * b[l][j]\n",
    "t2= time.time()\n",
    "t3=time.time()\n",
    "matrix = np.matmul(a,b)\n",
    "t4=time.time()\n",
    "print(f\"Time taken by for loop\",t2-t1)\n",
    "print(f\"Time taken by using numpy\",t4-t3)"
   ]
  },
  {
   "cell_type": "markdown",
   "id": "1dc283f8-adaf-4b11-9dc7-46881ace6604",
   "metadata": {},
   "source": [
    "3. Finding the highest element in a list requires one pass of the array. Finding the second highest element requires 2 passes of the the array. Using this method, what is the time complexity of finding the median of the array? Can you suggest a better method? Can you implement both these methods in Python and compare against numpy.median routine in terms of time?"
   ]
  },
  {
   "cell_type": "code",
   "execution_count": 110,
   "id": "97db7a93-7510-4fe6-880b-c0feb4f57ca0",
   "metadata": {},
   "outputs": [
    {
     "name": "stdout",
     "output_type": "stream",
     "text": [
      "Median is: 6.0\n",
      "Time taken: 0.002810239791870117 s\n"
     ]
    }
   ],
   "source": [
    "import numpy as np\n",
    "import time \n",
    "\n",
    "n = 100\n",
    "a = np.random.randint(0,15,size=n)\n",
    "ptr=0\n",
    "t1 = time.time()\n",
    "for i in range(n//2+1):\n",
    "    ind=i\n",
    "    for j in range(i,n):\n",
    "        if a[ind]>a[j]:\n",
    "            ind=j\n",
    "    a[ind],a[i] = a[i],a[ind]\n",
    "print(\"Median is:\",end=\" \")\n",
    "if n%2!=0:\n",
    "    print(a[n//2])\n",
    "else:\n",
    "    print((a[n//2-1]+a[n//2])/2)\n",
    "t2 = time.time()\n",
    "\n",
    "print(\"Time taken:\",t2-t1,\"s\")"
   ]
  },
  {
   "cell_type": "markdown",
   "id": "7394e4be-abeb-41cd-9900-78b9c478182a",
   "metadata": {},
   "source": [
    " 4. What is the gradient of the following function with respect to x and y?\r\n"
   ]
  },
  {
   "cell_type": "markdown",
   "id": "de75086b-69ac-407e-8be5-2305422a2944",
   "metadata": {},
   "source": [
    "The gradient desecnt wrt x is : 2xy + y^3cos(x)\n",
    "The gradient desecnt wrt y is : x^2 + 3y^2sin(x)"
   ]
  },
  {
   "cell_type": "markdown",
   "id": "6597e33f-800c-42eb-9c60-236424c97f20",
   "metadata": {},
   "source": [
    "5. Use JAX to confirm the gradient evaluated by your method matches the analytical solution corresponding to a few random values of x and y\n"
   ]
  },
  {
   "cell_type": "code",
   "execution_count": 9,
   "id": "e942b4ef-ef87-42bf-adff-213d3860041b",
   "metadata": {},
   "outputs": [
    {
     "name": "stdout",
     "output_type": "stream",
     "text": [
      "Gradient wrt x at (0,3): 27.0\n",
      "Gradient wrt y at (0,3): 0.0\n",
      "\n",
      "Checking values manually\n",
      "Gradient wrt x at (0,3): 27.0\n",
      "Gradient wrt y at (0,3): 0.0\n"
     ]
    }
   ],
   "source": [
    "def func(x, y):\n",
    "    return x**2*y + y**3*jnp.sin(x)\n",
    "\n",
    "grad_jax = grad(func,argnums=[0,1])\n",
    "grad_x,grad_y = grad_jax(0.0,3.0) \n",
    "print(\"Gradient wrt x at (0,3):\",grad_x)\n",
    "print(\"Gradient wrt y at (0,3):\",grad_y)\n",
    "\n",
    "def grad_check(x,y):\n",
    "    grad_x = 2*x*y + y**3*np.cos(x)\n",
    "    grad_y = x**2 + 3*y**2*np.sin(x)\n",
    "    return grad_x, grad_y\n",
    "\n",
    "print()\n",
    "print(\"Checking values manually\")\n",
    "print(\"Gradient wrt x at (0,3):\",grad_check(0,3)[0])\n",
    "print(\"Gradient wrt y at (0,3):\",grad_check(0,3)[1])"
   ]
  },
  {
   "cell_type": "markdown",
   "id": "d47f1618-56c3-4341-bc84-1484b05baf68",
   "metadata": {},
   "source": [
    "6. Use sympy to confirm that you obtain the same gradient analytically.\n"
   ]
  },
  {
   "cell_type": "code",
   "execution_count": 108,
   "id": "a20829d9-f26f-40ce-a5b8-1c267c7a8722",
   "metadata": {},
   "outputs": [
    {
     "name": "stdout",
     "output_type": "stream",
     "text": [
      "gradient decent wrt x : 2*x*y + y**3*cos(x)\n",
      "gradient decent wrt y : x**2 + 3*y**2*sin(x)\n"
     ]
    }
   ],
   "source": [
    "import sympy as sp\n",
    "\n",
    "def expression(x,y):\n",
    "    return (x**2)*y + (y**3)*sp.sin(x)\n",
    "\n",
    "x, y = sp.symbols('x y')\n",
    "\n",
    "grad_x = sp.diff(expression(x,y),x)\n",
    "grad_y = sp.diff(expression(x,y),y)\n",
    "\n",
    "print(f\"gradient decent wrt x : {grad_x}\")\n",
    "print(f\"gradient decent wrt y : {grad_y}\")"
   ]
  },
  {
   "cell_type": "markdown",
   "id": "8d72dbd5-58be-4584-a304-e1bae6fa2721",
   "metadata": {},
   "source": [
    "7. Create a Python nested dictionary to represent hierarchical information. We want to store record of students and their marks. Something like:\n"
   ]
  },
  {
   "cell_type": "code",
   "execution_count": 5,
   "id": "83c3ee43-b68f-42e1-aea6-33d8ff903bd4",
   "metadata": {},
   "outputs": [],
   "source": [
    "Student_data = {\n",
    "    \"2022\" : {\n",
    "        \"Branch1\" : {\n",
    "            \"Roll no. 1\":{1},\n",
    "            \"Name\" : {\"N\"},\n",
    "            \"Marks\" : {\n",
    "                \"Maths\" : {100},\n",
    "                \"English\" : {70}\n",
    "            }\n",
    "        },\n",
    "\n",
    "        \"Branch2\" : {\n",
    "            \"Roll no. 1\":{1},\n",
    "            \"Name\" : {\"N\"},\n",
    "            \"Marks\" : {\n",
    "                \"Maths\" : {100},\n",
    "                \"English\" : {70}\n",
    "            }\n",
    "        }\n",
    "        \n",
    "    },\n",
    "    \"2023\" : {\n",
    "        \"Branch1\" : {\n",
    "            \"Roll no. 1\":{1},\n",
    "            \"Name\" : {\"N\"},\n",
    "            \"Marks\" : {\n",
    "                \"Maths\" : {100},\n",
    "                \"English\" : {70}\n",
    "            }\n",
    "        },\n",
    "\n",
    "        \"Branch2\" : {\n",
    "            \"Roll no. 1\":{1},\n",
    "            \"Name\" : {\"N\"},\n",
    "            \"Marks\" : {\n",
    "                \"Maths\" : {100},\n",
    "                \"English\" : {70}\n",
    "            }\n",
    "        }\n",
    "\n",
    "\n",
    "    },\n",
    "    \"2024\" : {\n",
    "        \"Branch1\" : {\n",
    "            \"Roll no. 1\":{1},\n",
    "            \"Name\" : {\"N\"},\n",
    "            \"Marks\" : {\n",
    "                \"Maths\" : {100},\n",
    "                \"English\" : {70}\n",
    "            }\n",
    "        },\n",
    "\n",
    "        \"Branch2\" : {\n",
    "            \"Roll no. 1\":{1},\n",
    "            \"Name\" : {\"N\"},\n",
    "            \"Marks\" : {\n",
    "                \"Maths\" : {100},\n",
    "                \"English\" : {70}\n",
    "            }\n",
    "        }\n",
    "\n",
    "\n",
    "    },\n",
    "    \"2025\" : {\n",
    "        \"Branch1\" : {\n",
    "            \"Roll no. 1\":{1},\n",
    "            \"Name\" : {\"N\"},\n",
    "            \"Marks\" : {\n",
    "                \"Maths\" : {100},\n",
    "                \"English\" : {70}\n",
    "            }\n",
    "        },\n",
    "        \"Branch2\" : {\n",
    "            \"Roll no. 1\":{1},\n",
    "            \"Name\" : {\"N\"},\n",
    "            \"Marks\" : {\n",
    "                \"Maths\" : {100},\n",
    "                \"English\" : {70}\n",
    "            }\n",
    "        }\n",
    "    }\n",
    "}"
   ]
  },
  {
   "cell_type": "code",
   "execution_count": 112,
   "id": "30066096-ac32-4f91-88ab-d9bcf488927b",
   "metadata": {},
   "outputs": [
    {
     "data": {
      "text/plain": [
       "{'Branch1': {'Roll no. 1': {1},\n",
       "  'Name': {'N'},\n",
       "  'Marks': {'Maths': {100}, 'English': {70}}},\n",
       " 'Branch2': {'Roll no. 1': {1},\n",
       "  'Name': {'N'},\n",
       "  'Marks': {'Maths': {100}, 'English': {70}}}}"
      ]
     },
     "execution_count": 112,
     "metadata": {},
     "output_type": "execute_result"
    }
   ],
   "source": [
    "Student_data['2022']"
   ]
  },
  {
   "cell_type": "code",
   "execution_count": null,
   "id": "4f6e9ea3-e245-49b3-8337-13f6ea930f31",
   "metadata": {},
   "outputs": [],
   "source": []
  },
  {
   "cell_type": "markdown",
   "id": "0cfd5ae3-4227-4e27-b27b-871edcc98154",
   "metadata": {},
   "source": [
    "8. Store the same information using Python classes. We have an overall database which is a list of year objects. Each year contains a list of branches. Each branch contains a list of students. Each student has some properties like name, roll number and has marks in some subjects."
   ]
  },
  {
   "cell_type": "code",
   "execution_count": 25,
   "id": "c1c73392-d511-4f61-9c05-41b24cf81f1d",
   "metadata": {},
   "outputs": [
    {
     "name": "stdout",
     "output_type": "stream",
     "text": [
      "N\n"
     ]
    }
   ],
   "source": [
    "class Student:\n",
    "    def __init__(self, name, roll):\n",
    "        self.name = name\n",
    "        self.roll = roll\n",
    "        self.marks = {}\n",
    "\n",
    "    def add_marks(self, subject, marks):\n",
    "        self.marks[subject] = marks\n",
    "\n",
    "class Branch:\n",
    "    def __init__(self):\n",
    "        self.students = []\n",
    "\n",
    "    def add_student(self, student):\n",
    "        self.students.append(student)\n",
    "\n",
    "class Year:\n",
    "    def __init__(self):\n",
    "        self.branches = []\n",
    "\n",
    "    def add_branch(self, branch):\n",
    "        self.branches.append(branch)\n",
    "\n",
    "# Creating the database\n",
    "database = []\n",
    "\n",
    "# Function to add data for a particular year\n",
    "def add_year_data(year):\n",
    "    year_obj = Year()\n",
    "    \n",
    "    branch1 = Branch()\n",
    "    student1_b1 = Student(\"N\", 1)\n",
    "    student1_b1.add_marks(\"Maths\", 100)\n",
    "    student1_b1.add_marks(\"English\", 70)\n",
    "    branch1.add_student(student1_b1)\n",
    "    year_obj.add_branch(branch1)\n",
    "    \n",
    "    branch2 = Branch()\n",
    "    student1_b2 = Student(\"N\", 1)\n",
    "    student1_b2.add_marks(\"Maths\", 100)\n",
    "    student1_b2.add_marks(\"English\", 70)\n",
    "    branch2.add_student(student1_b2)\n",
    "    year_obj.add_branch(branch2)\n",
    "    \n",
    "    database.append(year_obj)\n",
    "\n",
    "# Adding data for the years 2022 to 2025\n",
    "for year in range(2022, 2026):\n",
    "    add_year_data(year)\n",
    "\n",
    "# Example: Accessing the name of the first student in the first branch of the year 2022\n",
    "print(database[0].branches[0].students[0].name)\n"
   ]
  },
  {
   "cell_type": "markdown",
   "id": "5ea3a57e-dbfe-4192-bf11-ddafc19f90ca",
   "metadata": {},
   "source": [
    "9. Using matplotlib plot the following functions on the domain: x = 0.5 to 100.0 in steps of 0.5.\r",
    "\r\n"
   ]
  },
  {
   "cell_type": "code",
   "execution_count": 11,
   "id": "5a148f34-e28a-401e-bcab-d3e41ca52f5d",
   "metadata": {},
   "outputs": [],
   "source": [
    "x = np.arange(0.5,100.5,0.5)"
   ]
  },
  {
   "cell_type": "code",
   "execution_count": 14,
   "id": "9ef1c79c-93e7-48d9-a67d-46982a4777f2",
   "metadata": {},
   "outputs": [
    {
     "data": {
      "image/png": "[encoded data removed]",
      "text/plain": [
       "<Figure size 640x480 with 1 Axes>"
      ]
     },
     "metadata": {},
     "output_type": "display_data"
    }
   ],
   "source": [
    "# 1. y=x\n",
    "\n",
    "y = x\n",
    "\n",
    "plt.plot(x,y,label= 'y = x')\n",
    "plt.xlabel('x')\n",
    "plt.ylabel('y')\n",
    "plt.legend()\n",
    "plt.grid(True)\n",
    "plt.show()"
   ]
  },
  {
   "cell_type": "code",
   "execution_count": 15,
   "id": "240a2ff9-a5cb-4343-ac23-c0d7253de103",
   "metadata": {},
   "outputs": [
    {
     "data": {
      "image/png": "[encoded data removed]",
      "text/plain": [
       "<Figure size 640x480 with 1 Axes>"
      ]
     },
     "metadata": {},
     "output_type": "display_data"
    }
   ],
   "source": [
    "y = x**2\n",
    "\n",
    "plt.plot(x,y,label= 'y = x^2')\n",
    "plt.xlabel('x')\n",
    "plt.ylabel('y')\n",
    "plt.legend()\n",
    "plt.grid(True)\n",
    "plt.show()"
   ]
  },
  {
   "cell_type": "code",
   "execution_count": 17,
   "id": "036395c3-2939-481b-9124-b42a82ceb7e5",
   "metadata": {},
   "outputs": [
    {
     "data": {
      "image/png": "[encoded data removed]",
      "text/plain": [
       "<Figure size 640x480 with 1 Axes>"
      ]
     },
     "metadata": {},
     "output_type": "display_data"
    }
   ],
   "source": [
    "y = x**3/100\n",
    "\n",
    "plt.plot(x,y,label= 'y = (x^3)/100')\n",
    "plt.xlabel('x')\n",
    "plt.ylabel('y')\n",
    "plt.legend()\n",
    "plt.grid(True)\n",
    "plt.show()"
   ]
  },
  {
   "cell_type": "code",
   "execution_count": 18,
   "id": "3e3c422e-3306-4104-bc26-38d46fb58a7b",
   "metadata": {},
   "outputs": [
    {
     "data": {
      "image/png": "[encoded data removed]",
      "text/plain": [
       "<Figure size 640x480 with 1 Axes>"
      ]
     },
     "metadata": {},
     "output_type": "display_data"
    }
   ],
   "source": [
    "y = np.sin(x)\n",
    "\n",
    "plt.plot(x,y,label= 'y = sin(x)')\n",
    "plt.xlabel('x')\n",
    "plt.ylabel('y')\n",
    "plt.legend()\n",
    "plt.grid(True)\n",
    "plt.show()"
   ]
  },
  {
   "cell_type": "code",
   "execution_count": 19,
   "id": "7313ae9a-da15-468f-85a1-c221a0be4668",
   "metadata": {},
   "outputs": [
    {
     "data": {
      "image/png": "[encoded data removed]",
      "text/plain": [
       "<Figure size 640x480 with 1 Axes>"
      ]
     },
     "metadata": {},
     "output_type": "display_data"
    }
   ],
   "source": [
    "y = np.sin(x)/x\n",
    "\n",
    "plt.plot(x,y,label= 'y = sin(x)/x')\n",
    "plt.xlabel('x')\n",
    "plt.ylabel('y')\n",
    "plt.legend()\n",
    "plt.grid(True)\n",
    "plt.show()"
   ]
  },
  {
   "cell_type": "code",
   "execution_count": 20,
   "id": "8309439c-e399-4563-91d6-b610bab43cdf",
   "metadata": {},
   "outputs": [
    {
     "data": {
      "image/png": "[encoded data removed]",
      "text/plain": [
       "<Figure size 640x480 with 1 Axes>"
      ]
     },
     "metadata": {},
     "output_type": "display_data"
    }
   ],
   "source": [
    "y = np.log(x)\n",
    "\n",
    "plt.plot(x,y,label= 'y = log(x)')\n",
    "plt.xlabel('x')\n",
    "plt.ylabel('y')\n",
    "plt.legend()\n",
    "plt.grid(True)\n",
    "plt.show()"
   ]
  },
  {
   "cell_type": "code",
   "execution_count": 25,
   "id": "9ef72ad6-405d-4be0-aca0-7bbdc1f9362b",
   "metadata": {},
   "outputs": [
    {
     "data": {
      "image/png": "[encoded data removed]",
      "text/plain": [
       "<Figure size 1000x600 with 1 Axes>"
      ]
     },
     "metadata": {},
     "output_type": "display_data"
    }
   ],
   "source": [
    "y = np.exp(x)\n",
    "\n",
    "plt.figure(figsize=(10, 6))\n",
    "plt.plot(x,y,label= 'y = e^x')\n",
    "# plt.ylim([0,1000])\n",
    "plt.xlabel('x')\n",
    "plt.ylabel('y')\n",
    "plt.legend()\n",
    "plt.grid(True)\n",
    "plt.show()"
   ]
  },
  {
   "cell_type": "markdown",
   "id": "a9b76c4a-32be-4805-8bdf-9e040b64620f",
   "metadata": {},
   "source": [
    "10. Using numpy generate a matrix of size 20X5 containing random numbers drawn uniformly from the range of 1 to 2. Using Pandas create a dataframe out of this matrix. Name the columns of the dataframe as “a”, “b”, “c”, “d”, “e”. Find the column with the highest standard deviation. Find the row with the lowest mean."
   ]
  },
  {
   "cell_type": "code",
   "execution_count": 46,
   "id": "a2b9597e-697f-483d-8ab0-6c8e5efb37aa",
   "metadata": {},
   "outputs": [
    {
     "name": "stdout",
     "output_type": "stream",
     "text": [
      "           a         b         c         d         e\n",
      "0   1.435745  1.626564  1.853652  1.191994  1.278228\n",
      "1   1.515454  1.084765  1.715721  1.428267  1.624914\n",
      "2   1.504904  1.117675  1.863393  1.422260  1.518667\n",
      "3   1.250858  1.300706  1.656296  1.775423  1.123746\n",
      "4   1.404524  1.113381  1.416928  1.600434  1.096930\n",
      "5   1.302393  1.483354  1.791243  1.214746  1.759382\n",
      "6   1.196953  1.848018  1.619761  1.357469  1.115957\n",
      "7   1.141933  1.290621  1.679044  1.161704  1.824834\n",
      "8   1.667751  1.610563  1.568654  1.818585  1.278433\n",
      "9   1.809612  1.798216  1.858591  1.889586  1.836124\n",
      "10  1.385092  1.492928  1.716368  1.925587  1.199707\n",
      "11  1.655465  1.169192  1.572317  1.852469  1.797019\n",
      "12  1.120422  1.322318  1.943503  1.473875  1.755234\n",
      "13  1.381496  1.971637  1.172579  1.915180  1.835477\n",
      "14  1.394774  1.188957  1.634994  1.853033  1.834051\n",
      "15  1.485972  1.702389  1.262075  1.437592  1.527564\n",
      "16  1.615883  1.000755  1.221698  1.915879  1.541395\n",
      "17  1.895208  1.992232  1.530100  1.773804  1.807624\n",
      "18  1.021780  1.804668  1.165228  1.351906  1.387726\n",
      "19  1.499174  1.504514  1.172485  1.617312  1.376588\n"
     ]
    }
   ],
   "source": [
    "n = 20\n",
    "m = 5\n",
    "matrix = np.random.uniform(1, 2, (n, m))\n",
    "df = pd.DataFrame(matrix)\n",
    "df.columns=['a','b','c','d','e']\n",
    "\n",
    "print(df)"
   ]
  },
  {
   "cell_type": "markdown",
   "id": "5c48d0d1-e582-44cd-85c2-31b507fe454a",
   "metadata": {},
   "source": [
    "11. Add a new column to the dataframe called “f” which is the sum of the columns “a”, “b”, “c”, “d”, “e”. Create another column called “g”. The value in the column “g” should be “LT8” if the value in the column “f” is less than 8 and “GT8” otherwise. Find the number of rows in the dataframe where the value in the column “g” is “LT8”. Find the standard deviation of the column “f” for the rows where the value in the column “g” is “LT8” and “GT8” respectively."
   ]
  },
  {
   "cell_type": "code",
   "execution_count": 48,
   "id": "457644c9-d069-44b1-9e3a-3a4233599143",
   "metadata": {},
   "outputs": [
    {
     "data": {
      "text/html": [
       "<div>\n",
       "<style scoped>\n",
       "    .dataframe tbody tr th:only-of-type {\n",
       "        vertical-align: middle;\n",
       "    }\n",
       "\n",
       "    .dataframe tbody tr th {\n",
       "        vertical-align: top;\n",
       "    }\n",
       "\n",
       "    .dataframe thead th {\n",
       "        text-align: right;\n",
       "    }\n",
       "</style>\n",
       "<table border=\"1\" class=\"dataframe\">\n",
       "  <thead>\n",
       "    <tr style=\"text-align: right;\">\n",
       "      <th></th>\n",
       "      <th>a</th>\n",
       "      <th>b</th>\n",
       "      <th>c</th>\n",
       "      <th>d</th>\n",
       "      <th>e</th>\n",
       "      <th>f</th>\n",
       "    </tr>\n",
       "  </thead>\n",
       "  <tbody>\n",
       "    <tr>\n",
       "      <th>0</th>\n",
       "      <td>1.435745</td>\n",
       "      <td>1.626564</td>\n",
       "      <td>1.853652</td>\n",
       "      <td>1.191994</td>\n",
       "      <td>1.278228</td>\n",
       "      <td>7.386183</td>\n",
       "    </tr>\n",
       "    <tr>\n",
       "      <th>1</th>\n",
       "      <td>1.515454</td>\n",
       "      <td>1.084765</td>\n",
       "      <td>1.715721</td>\n",
       "      <td>1.428267</td>\n",
       "      <td>1.624914</td>\n",
       "      <td>7.369122</td>\n",
       "    </tr>\n",
       "    <tr>\n",
       "      <th>2</th>\n",
       "      <td>1.504904</td>\n",
       "      <td>1.117675</td>\n",
       "      <td>1.863393</td>\n",
       "      <td>1.422260</td>\n",
       "      <td>1.518667</td>\n",
       "      <td>7.426899</td>\n",
       "    </tr>\n",
       "    <tr>\n",
       "      <th>3</th>\n",
       "      <td>1.250858</td>\n",
       "      <td>1.300706</td>\n",
       "      <td>1.656296</td>\n",
       "      <td>1.775423</td>\n",
       "      <td>1.123746</td>\n",
       "      <td>7.107029</td>\n",
       "    </tr>\n",
       "    <tr>\n",
       "      <th>4</th>\n",
       "      <td>1.404524</td>\n",
       "      <td>1.113381</td>\n",
       "      <td>1.416928</td>\n",
       "      <td>1.600434</td>\n",
       "      <td>1.096930</td>\n",
       "      <td>6.632197</td>\n",
       "    </tr>\n",
       "    <tr>\n",
       "      <th>5</th>\n",
       "      <td>1.302393</td>\n",
       "      <td>1.483354</td>\n",
       "      <td>1.791243</td>\n",
       "      <td>1.214746</td>\n",
       "      <td>1.759382</td>\n",
       "      <td>7.551119</td>\n",
       "    </tr>\n",
       "    <tr>\n",
       "      <th>6</th>\n",
       "      <td>1.196953</td>\n",
       "      <td>1.848018</td>\n",
       "      <td>1.619761</td>\n",
       "      <td>1.357469</td>\n",
       "      <td>1.115957</td>\n",
       "      <td>7.138157</td>\n",
       "    </tr>\n",
       "    <tr>\n",
       "      <th>7</th>\n",
       "      <td>1.141933</td>\n",
       "      <td>1.290621</td>\n",
       "      <td>1.679044</td>\n",
       "      <td>1.161704</td>\n",
       "      <td>1.824834</td>\n",
       "      <td>7.098135</td>\n",
       "    </tr>\n",
       "    <tr>\n",
       "      <th>8</th>\n",
       "      <td>1.667751</td>\n",
       "      <td>1.610563</td>\n",
       "      <td>1.568654</td>\n",
       "      <td>1.818585</td>\n",
       "      <td>1.278433</td>\n",
       "      <td>7.943986</td>\n",
       "    </tr>\n",
       "    <tr>\n",
       "      <th>9</th>\n",
       "      <td>1.809612</td>\n",
       "      <td>1.798216</td>\n",
       "      <td>1.858591</td>\n",
       "      <td>1.889586</td>\n",
       "      <td>1.836124</td>\n",
       "      <td>9.192127</td>\n",
       "    </tr>\n",
       "    <tr>\n",
       "      <th>10</th>\n",
       "      <td>1.385092</td>\n",
       "      <td>1.492928</td>\n",
       "      <td>1.716368</td>\n",
       "      <td>1.925587</td>\n",
       "      <td>1.199707</td>\n",
       "      <td>7.719683</td>\n",
       "    </tr>\n",
       "    <tr>\n",
       "      <th>11</th>\n",
       "      <td>1.655465</td>\n",
       "      <td>1.169192</td>\n",
       "      <td>1.572317</td>\n",
       "      <td>1.852469</td>\n",
       "      <td>1.797019</td>\n",
       "      <td>8.046461</td>\n",
       "    </tr>\n",
       "    <tr>\n",
       "      <th>12</th>\n",
       "      <td>1.120422</td>\n",
       "      <td>1.322318</td>\n",
       "      <td>1.943503</td>\n",
       "      <td>1.473875</td>\n",
       "      <td>1.755234</td>\n",
       "      <td>7.615351</td>\n",
       "    </tr>\n",
       "    <tr>\n",
       "      <th>13</th>\n",
       "      <td>1.381496</td>\n",
       "      <td>1.971637</td>\n",
       "      <td>1.172579</td>\n",
       "      <td>1.915180</td>\n",
       "      <td>1.835477</td>\n",
       "      <td>8.276368</td>\n",
       "    </tr>\n",
       "    <tr>\n",
       "      <th>14</th>\n",
       "      <td>1.394774</td>\n",
       "      <td>1.188957</td>\n",
       "      <td>1.634994</td>\n",
       "      <td>1.853033</td>\n",
       "      <td>1.834051</td>\n",
       "      <td>7.905810</td>\n",
       "    </tr>\n",
       "    <tr>\n",
       "      <th>15</th>\n",
       "      <td>1.485972</td>\n",
       "      <td>1.702389</td>\n",
       "      <td>1.262075</td>\n",
       "      <td>1.437592</td>\n",
       "      <td>1.527564</td>\n",
       "      <td>7.415593</td>\n",
       "    </tr>\n",
       "    <tr>\n",
       "      <th>16</th>\n",
       "      <td>1.615883</td>\n",
       "      <td>1.000755</td>\n",
       "      <td>1.221698</td>\n",
       "      <td>1.915879</td>\n",
       "      <td>1.541395</td>\n",
       "      <td>7.295610</td>\n",
       "    </tr>\n",
       "    <tr>\n",
       "      <th>17</th>\n",
       "      <td>1.895208</td>\n",
       "      <td>1.992232</td>\n",
       "      <td>1.530100</td>\n",
       "      <td>1.773804</td>\n",
       "      <td>1.807624</td>\n",
       "      <td>8.998970</td>\n",
       "    </tr>\n",
       "    <tr>\n",
       "      <th>18</th>\n",
       "      <td>1.021780</td>\n",
       "      <td>1.804668</td>\n",
       "      <td>1.165228</td>\n",
       "      <td>1.351906</td>\n",
       "      <td>1.387726</td>\n",
       "      <td>6.731308</td>\n",
       "    </tr>\n",
       "    <tr>\n",
       "      <th>19</th>\n",
       "      <td>1.499174</td>\n",
       "      <td>1.504514</td>\n",
       "      <td>1.172485</td>\n",
       "      <td>1.617312</td>\n",
       "      <td>1.376588</td>\n",
       "      <td>7.170073</td>\n",
       "    </tr>\n",
       "  </tbody>\n",
       "</table>\n",
       "</div>"
      ],
      "text/plain": [
       "           a         b         c         d         e         f\n",
       "0   1.435745  1.626564  1.853652  1.191994  1.278228  7.386183\n",
       "1   1.515454  1.084765  1.715721  1.428267  1.624914  7.369122\n",
       "2   1.504904  1.117675  1.863393  1.422260  1.518667  7.426899\n",
       "3   1.250858  1.300706  1.656296  1.775423  1.123746  7.107029\n",
       "4   1.404524  1.113381  1.416928  1.600434  1.096930  6.632197\n",
       "5   1.302393  1.483354  1.791243  1.214746  1.759382  7.551119\n",
       "6   1.196953  1.848018  1.619761  1.357469  1.115957  7.138157\n",
       "7   1.141933  1.290621  1.679044  1.161704  1.824834  7.098135\n",
       "8   1.667751  1.610563  1.568654  1.818585  1.278433  7.943986\n",
       "9   1.809612  1.798216  1.858591  1.889586  1.836124  9.192127\n",
       "10  1.385092  1.492928  1.716368  1.925587  1.199707  7.719683\n",
       "11  1.655465  1.169192  1.572317  1.852469  1.797019  8.046461\n",
       "12  1.120422  1.322318  1.943503  1.473875  1.755234  7.615351\n",
       "13  1.381496  1.971637  1.172579  1.915180  1.835477  8.276368\n",
       "14  1.394774  1.188957  1.634994  1.853033  1.834051  7.905810\n",
       "15  1.485972  1.702389  1.262075  1.437592  1.527564  7.415593\n",
       "16  1.615883  1.000755  1.221698  1.915879  1.541395  7.295610\n",
       "17  1.895208  1.992232  1.530100  1.773804  1.807624  8.998970\n",
       "18  1.021780  1.804668  1.165228  1.351906  1.387726  6.731308\n",
       "19  1.499174  1.504514  1.172485  1.617312  1.376588  7.170073"
      ]
     },
     "execution_count": 48,
     "metadata": {},
     "output_type": "execute_result"
    }
   ],
   "source": [
    "df['f']=df.sum(axis=1)\n",
    "df"
   ]
  },
  {
   "cell_type": "code",
   "execution_count": 51,
   "id": "37c679fd-4c63-4b0d-a445-7f53522bdb33",
   "metadata": {},
   "outputs": [
    {
     "data": {
      "text/html": [
       "<div>\n",
       "<style scoped>\n",
       "    .dataframe tbody tr th:only-of-type {\n",
       "        vertical-align: middle;\n",
       "    }\n",
       "\n",
       "    .dataframe tbody tr th {\n",
       "        vertical-align: top;\n",
       "    }\n",
       "\n",
       "    .dataframe thead th {\n",
       "        text-align: right;\n",
       "    }\n",
       "</style>\n",
       "<table border=\"1\" class=\"dataframe\">\n",
       "  <thead>\n",
       "    <tr style=\"text-align: right;\">\n",
       "      <th></th>\n",
       "      <th>a</th>\n",
       "      <th>b</th>\n",
       "      <th>c</th>\n",
       "      <th>d</th>\n",
       "      <th>e</th>\n",
       "      <th>f</th>\n",
       "      <th>g</th>\n",
       "    </tr>\n",
       "  </thead>\n",
       "  <tbody>\n",
       "    <tr>\n",
       "      <th>0</th>\n",
       "      <td>1.435745</td>\n",
       "      <td>1.626564</td>\n",
       "      <td>1.853652</td>\n",
       "      <td>1.191994</td>\n",
       "      <td>1.278228</td>\n",
       "      <td>7.386183</td>\n",
       "      <td>LT8</td>\n",
       "    </tr>\n",
       "    <tr>\n",
       "      <th>1</th>\n",
       "      <td>1.515454</td>\n",
       "      <td>1.084765</td>\n",
       "      <td>1.715721</td>\n",
       "      <td>1.428267</td>\n",
       "      <td>1.624914</td>\n",
       "      <td>7.369122</td>\n",
       "      <td>LT8</td>\n",
       "    </tr>\n",
       "    <tr>\n",
       "      <th>2</th>\n",
       "      <td>1.504904</td>\n",
       "      <td>1.117675</td>\n",
       "      <td>1.863393</td>\n",
       "      <td>1.422260</td>\n",
       "      <td>1.518667</td>\n",
       "      <td>7.426899</td>\n",
       "      <td>LT8</td>\n",
       "    </tr>\n",
       "    <tr>\n",
       "      <th>3</th>\n",
       "      <td>1.250858</td>\n",
       "      <td>1.300706</td>\n",
       "      <td>1.656296</td>\n",
       "      <td>1.775423</td>\n",
       "      <td>1.123746</td>\n",
       "      <td>7.107029</td>\n",
       "      <td>LT8</td>\n",
       "    </tr>\n",
       "    <tr>\n",
       "      <th>4</th>\n",
       "      <td>1.404524</td>\n",
       "      <td>1.113381</td>\n",
       "      <td>1.416928</td>\n",
       "      <td>1.600434</td>\n",
       "      <td>1.096930</td>\n",
       "      <td>6.632197</td>\n",
       "      <td>LT8</td>\n",
       "    </tr>\n",
       "    <tr>\n",
       "      <th>5</th>\n",
       "      <td>1.302393</td>\n",
       "      <td>1.483354</td>\n",
       "      <td>1.791243</td>\n",
       "      <td>1.214746</td>\n",
       "      <td>1.759382</td>\n",
       "      <td>7.551119</td>\n",
       "      <td>LT8</td>\n",
       "    </tr>\n",
       "    <tr>\n",
       "      <th>6</th>\n",
       "      <td>1.196953</td>\n",
       "      <td>1.848018</td>\n",
       "      <td>1.619761</td>\n",
       "      <td>1.357469</td>\n",
       "      <td>1.115957</td>\n",
       "      <td>7.138157</td>\n",
       "      <td>LT8</td>\n",
       "    </tr>\n",
       "    <tr>\n",
       "      <th>7</th>\n",
       "      <td>1.141933</td>\n",
       "      <td>1.290621</td>\n",
       "      <td>1.679044</td>\n",
       "      <td>1.161704</td>\n",
       "      <td>1.824834</td>\n",
       "      <td>7.098135</td>\n",
       "      <td>LT8</td>\n",
       "    </tr>\n",
       "    <tr>\n",
       "      <th>8</th>\n",
       "      <td>1.667751</td>\n",
       "      <td>1.610563</td>\n",
       "      <td>1.568654</td>\n",
       "      <td>1.818585</td>\n",
       "      <td>1.278433</td>\n",
       "      <td>7.943986</td>\n",
       "      <td>LT8</td>\n",
       "    </tr>\n",
       "    <tr>\n",
       "      <th>9</th>\n",
       "      <td>1.809612</td>\n",
       "      <td>1.798216</td>\n",
       "      <td>1.858591</td>\n",
       "      <td>1.889586</td>\n",
       "      <td>1.836124</td>\n",
       "      <td>9.192127</td>\n",
       "      <td>GT8</td>\n",
       "    </tr>\n",
       "    <tr>\n",
       "      <th>10</th>\n",
       "      <td>1.385092</td>\n",
       "      <td>1.492928</td>\n",
       "      <td>1.716368</td>\n",
       "      <td>1.925587</td>\n",
       "      <td>1.199707</td>\n",
       "      <td>7.719683</td>\n",
       "      <td>LT8</td>\n",
       "    </tr>\n",
       "    <tr>\n",
       "      <th>11</th>\n",
       "      <td>1.655465</td>\n",
       "      <td>1.169192</td>\n",
       "      <td>1.572317</td>\n",
       "      <td>1.852469</td>\n",
       "      <td>1.797019</td>\n",
       "      <td>8.046461</td>\n",
       "      <td>GT8</td>\n",
       "    </tr>\n",
       "    <tr>\n",
       "      <th>12</th>\n",
       "      <td>1.120422</td>\n",
       "      <td>1.322318</td>\n",
       "      <td>1.943503</td>\n",
       "      <td>1.473875</td>\n",
       "      <td>1.755234</td>\n",
       "      <td>7.615351</td>\n",
       "      <td>LT8</td>\n",
       "    </tr>\n",
       "    <tr>\n",
       "      <th>13</th>\n",
       "      <td>1.381496</td>\n",
       "      <td>1.971637</td>\n",
       "      <td>1.172579</td>\n",
       "      <td>1.915180</td>\n",
       "      <td>1.835477</td>\n",
       "      <td>8.276368</td>\n",
       "      <td>GT8</td>\n",
       "    </tr>\n",
       "    <tr>\n",
       "      <th>14</th>\n",
       "      <td>1.394774</td>\n",
       "      <td>1.188957</td>\n",
       "      <td>1.634994</td>\n",
       "      <td>1.853033</td>\n",
       "      <td>1.834051</td>\n",
       "      <td>7.905810</td>\n",
       "      <td>LT8</td>\n",
       "    </tr>\n",
       "    <tr>\n",
       "      <th>15</th>\n",
       "      <td>1.485972</td>\n",
       "      <td>1.702389</td>\n",
       "      <td>1.262075</td>\n",
       "      <td>1.437592</td>\n",
       "      <td>1.527564</td>\n",
       "      <td>7.415593</td>\n",
       "      <td>LT8</td>\n",
       "    </tr>\n",
       "    <tr>\n",
       "      <th>16</th>\n",
       "      <td>1.615883</td>\n",
       "      <td>1.000755</td>\n",
       "      <td>1.221698</td>\n",
       "      <td>1.915879</td>\n",
       "      <td>1.541395</td>\n",
       "      <td>7.295610</td>\n",
       "      <td>LT8</td>\n",
       "    </tr>\n",
       "    <tr>\n",
       "      <th>17</th>\n",
       "      <td>1.895208</td>\n",
       "      <td>1.992232</td>\n",
       "      <td>1.530100</td>\n",
       "      <td>1.773804</td>\n",
       "      <td>1.807624</td>\n",
       "      <td>8.998970</td>\n",
       "      <td>GT8</td>\n",
       "    </tr>\n",
       "    <tr>\n",
       "      <th>18</th>\n",
       "      <td>1.021780</td>\n",
       "      <td>1.804668</td>\n",
       "      <td>1.165228</td>\n",
       "      <td>1.351906</td>\n",
       "      <td>1.387726</td>\n",
       "      <td>6.731308</td>\n",
       "      <td>LT8</td>\n",
       "    </tr>\n",
       "    <tr>\n",
       "      <th>19</th>\n",
       "      <td>1.499174</td>\n",
       "      <td>1.504514</td>\n",
       "      <td>1.172485</td>\n",
       "      <td>1.617312</td>\n",
       "      <td>1.376588</td>\n",
       "      <td>7.170073</td>\n",
       "      <td>LT8</td>\n",
       "    </tr>\n",
       "  </tbody>\n",
       "</table>\n",
       "</div>"
      ],
      "text/plain": [
       "           a         b         c         d         e         f    g\n",
       "0   1.435745  1.626564  1.853652  1.191994  1.278228  7.386183  LT8\n",
       "1   1.515454  1.084765  1.715721  1.428267  1.624914  7.369122  LT8\n",
       "2   1.504904  1.117675  1.863393  1.422260  1.518667  7.426899  LT8\n",
       "3   1.250858  1.300706  1.656296  1.775423  1.123746  7.107029  LT8\n",
       "4   1.404524  1.113381  1.416928  1.600434  1.096930  6.632197  LT8\n",
       "5   1.302393  1.483354  1.791243  1.214746  1.759382  7.551119  LT8\n",
       "6   1.196953  1.848018  1.619761  1.357469  1.115957  7.138157  LT8\n",
       "7   1.141933  1.290621  1.679044  1.161704  1.824834  7.098135  LT8\n",
       "8   1.667751  1.610563  1.568654  1.818585  1.278433  7.943986  LT8\n",
       "9   1.809612  1.798216  1.858591  1.889586  1.836124  9.192127  GT8\n",
       "10  1.385092  1.492928  1.716368  1.925587  1.199707  7.719683  LT8\n",
       "11  1.655465  1.169192  1.572317  1.852469  1.797019  8.046461  GT8\n",
       "12  1.120422  1.322318  1.943503  1.473875  1.755234  7.615351  LT8\n",
       "13  1.381496  1.971637  1.172579  1.915180  1.835477  8.276368  GT8\n",
       "14  1.394774  1.188957  1.634994  1.853033  1.834051  7.905810  LT8\n",
       "15  1.485972  1.702389  1.262075  1.437592  1.527564  7.415593  LT8\n",
       "16  1.615883  1.000755  1.221698  1.915879  1.541395  7.295610  LT8\n",
       "17  1.895208  1.992232  1.530100  1.773804  1.807624  8.998970  GT8\n",
       "18  1.021780  1.804668  1.165228  1.351906  1.387726  6.731308  LT8\n",
       "19  1.499174  1.504514  1.172485  1.617312  1.376588  7.170073  LT8"
      ]
     },
     "execution_count": 51,
     "metadata": {},
     "output_type": "execute_result"
    }
   ],
   "source": [
    "df.loc[df['f']>8,'g']='GT8'\n",
    "df.loc[df['f']<8,'g']='LT8'\n",
    "df"
   ]
  },
  {
   "cell_type": "code",
   "execution_count": 54,
   "id": "46011063-739b-4445-9d81-f95d436e9726",
   "metadata": {},
   "outputs": [
    {
     "name": "stdout",
     "output_type": "stream",
     "text": [
      "Standard Deviation of f coressponding to LT8 :  0.3670887612589275\n",
      "Standard Deviation of f coressponding to GT8 :  0.5530791435001804\n"
     ]
    }
   ],
   "source": [
    "SD_LT8 = df.loc[df['g']=='LT8','f'].std()\n",
    "SD_GT8 = df.loc[df['g']=='GT8','f'].std()\n",
    "print(f'Standard Deviation of f coressponding to LT8 : ',SD_LT8)\n",
    "print(f'Standard Deviation of f coressponding to GT8 : ',SD_GT8)"
   ]
  },
  {
   "cell_type": "markdown",
   "id": "c9571128-b709-48fc-b3ec-5b0ab6b03f0d",
   "metadata": {},
   "source": [
    "12 . Write a small piece of code to explain broadcasting in numpy."
   ]
  },
  {
   "cell_type": "code",
   "execution_count": 58,
   "id": "8b4a601a-909e-4ef5-986a-2bc8f377ea67",
   "metadata": {},
   "outputs": [
    {
     "data": {
      "text/plain": [
       "array([[5],\n",
       "       [2],\n",
       "       [6],\n",
       "       [1],\n",
       "       [0]])"
      ]
     },
     "execution_count": 58,
     "metadata": {},
     "output_type": "execute_result"
    }
   ],
   "source": [
    "a = np.random.randint(0,7,size = (5,1))\n",
    "a"
   ]
  },
  {
   "cell_type": "code",
   "execution_count": 59,
   "id": "04aa6c55-01fb-40f4-ba0d-3f0c3ae12081",
   "metadata": {},
   "outputs": [
    {
     "data": {
      "text/plain": [
       "array([[7, 8, 5, 2, 2]])"
      ]
     },
     "execution_count": 59,
     "metadata": {},
     "output_type": "execute_result"
    }
   ],
   "source": [
    "b = np.random.randint(2,9,size = (1,5))\n",
    "b"
   ]
  },
  {
   "cell_type": "code",
   "execution_count": 60,
   "id": "35adc738-555a-43d4-a165-a738344da029",
   "metadata": {},
   "outputs": [
    {
     "data": {
      "text/plain": [
       "array([[12, 13, 10,  7,  7],\n",
       "       [ 9, 10,  7,  4,  4],\n",
       "       [13, 14, 11,  8,  8],\n",
       "       [ 8,  9,  6,  3,  3],\n",
       "       [ 7,  8,  5,  2,  2]])"
      ]
     },
     "execution_count": 60,
     "metadata": {},
     "output_type": "execute_result"
    }
   ],
   "source": [
    "a+b"
   ]
  },
  {
   "cell_type": "markdown",
   "id": "aa531423-f192-43f8-b5af-9a66caffbc9c",
   "metadata": {},
   "source": [
    "13. Write a function to compute the argmin of a numpy array. The function should take a numpy array as input and return the index of the minimum element. You can use the np.argmin function to verify your solution."
   ]
  },
  {
   "cell_type": "code",
   "execution_count": 103,
   "id": "d843df4b-51a4-4a98-bd85-bea42f434d39",
   "metadata": {},
   "outputs": [],
   "source": [
    "def argMin(arr):\n",
    "    mini = 1000\n",
    "    ind = 0\n",
    "    for i in range(0,len(arr)):\n",
    "        if(arr[i]<mini):\n",
    "            mini = arr[i]\n",
    "            ind = i\n",
    "    return ind\n",
    "\n",
    "\n"
   ]
  },
  {
   "cell_type": "code",
   "execution_count": 104,
   "id": "3fd00828-7902-43ee-b4d8-6c1d681490c3",
   "metadata": {},
   "outputs": [
    {
     "data": {
      "text/plain": [
       "array([7, 5, 3, 3, 6, 6, 9, 7, 5, 9, 9, 4, 7, 3, 7, 3, 7, 6, 6, 7])"
      ]
     },
     "execution_count": 104,
     "metadata": {},
     "output_type": "execute_result"
    }
   ],
   "source": [
    "arr = np.random.randint(3,10,20)\n",
    "arr"
   ]
  },
  {
   "cell_type": "code",
   "execution_count": 105,
   "id": "bd1ed736-f3d9-4f44-9203-dcc4cf2dda1a",
   "metadata": {},
   "outputs": [
    {
     "data": {
      "text/plain": [
       "2"
      ]
     },
     "execution_count": 105,
     "metadata": {},
     "output_type": "execute_result"
    }
   ],
   "source": [
    "minIndex = argMin(arr)\n",
    "minIndex"
   ]
  },
  {
   "cell_type": "code",
   "execution_count": 106,
   "id": "208738a5-cb0b-4cac-a055-d4b4f6ab7c01",
   "metadata": {},
   "outputs": [
    {
     "data": {
      "text/plain": [
       "2"
      ]
     },
     "execution_count": 106,
     "metadata": {},
     "output_type": "execute_result"
    }
   ],
   "source": [
    "verify = np.argmin(arr)\n",
    "verify"
   ]
  },
  {
   "cell_type": "code",
   "execution_count": null,
   "id": "5d09a322-4ea1-49a2-8f44-fdbaeda72517",
   "metadata": {},
   "outputs": [],
   "source": []
  }
 ],
 "metadata": {
  "kernelspec": {
   "display_name": "Python 3 (ipykernel)",
   "language": "python",
   "name": "python3"
  },
  "language_info": {
   "codemirror_mode": {
    "name": "ipython",
    "version": 3
   },
   "file_extension": ".py",
   "mimetype": "text/x-python",
   "name": "python",
   "nbconvert_exporter": "python",
   "pygments_lexer": "ipython3",
   "version": "3.11.7"
  },
  "widgets": {
   "application/vnd.jupyter.widget-state+json": {
    "state": {},
    "version_major": 2,
    "version_minor": 0
   }
  }
 },
 "nbformat": 4,
 "nbformat_minor": 5
}
